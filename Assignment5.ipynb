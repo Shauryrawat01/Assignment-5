{
 "cells": [
  {
   "cell_type": "code",
   "execution_count": 1,
   "id": "8022e4c2-ba98-4f7e-82ed-35b9d284aa7a",
   "metadata": {},
   "outputs": [],
   "source": [
    "#Question 1\n",
    "class Vehicle:\n",
    "    def __init__(self, name_of_vehicle, max_speed, average_of_vehicle):\n",
    "        self.name_of_vehicle = name_of_vehicle\n",
    "        self.max_speed = max_speed\n",
    "        self.average_of_vehicle = average_of_vehicle"
   ]
  },
  {
   "cell_type": "code",
   "execution_count": 2,
   "id": "a3d47179-69b3-4007-b6dd-dc54c67a80c6",
   "metadata": {},
   "outputs": [
    {
     "name": "stdout",
     "output_type": "stream",
     "text": [
      "Nano\n",
      "50\n",
      "20\n"
     ]
    }
   ],
   "source": [
    "car = Vehicle(\"Nano\", 50, 20)\n",
    "print(car.name_of_vehicle) \n",
    "print(car.max_speed) \n",
    "print(car.average_of_vehicle) "
   ]
  },
  {
   "cell_type": "code",
   "execution_count": 3,
   "id": "2fb2d295-3928-4c9d-a467-3c637fe5823d",
   "metadata": {},
   "outputs": [],
   "source": [
    "#Question 2\n",
    "class Car(Vehicle):\n",
    "    def __init__(self, name_of_vehicle, max_speed, average_of_vehicle):\n",
    "        super().__init__(name_of_vehicle, max_speed, average_of_vehicle)\n",
    "\n",
    "    def seating_capacity(self, capacity):\n",
    "        return f\"{self.name_of_vehicle} has a seating capacity of {capacity} people.\""
   ]
  },
  {
   "cell_type": "code",
   "execution_count": 4,
   "id": "fa6f086d-0803-4918-be53-94f09c1bf548",
   "metadata": {},
   "outputs": [
    {
     "name": "stdout",
     "output_type": "stream",
     "text": [
      "Nano has a seating capacity of 5 people.\n"
     ]
    }
   ],
   "source": [
    "car = Car(\"Nano\", 50, 45)\n",
    "print(car.seating_capacity(5))"
   ]
  },
  {
   "cell_type": "code",
   "execution_count": 7,
   "id": "3580e71a-dd39-4ee4-ba28-4f3f0de85d3e",
   "metadata": {},
   "outputs": [],
   "source": [
    "#QUESTION 3\n",
    "#In this where a class can inherit attributes and methods from multiple parent classes\n",
    "class Animal:\n",
    "    def __init__(self, name):\n",
    "        self.name = name\n",
    "\n",
    "    def speak(self):\n",
    "        print(self.name)\n",
    "\n",
    "\n",
    "class Flying:\n",
    "    def fly(self):\n",
    "        print(self.name)\n",
    "\n",
    "\n",
    "class Bird(Animal, Flying):\n",
    "    def __init__(self, name):\n",
    "        super().__init__(name)"
   ]
  },
  {
   "cell_type": "code",
   "execution_count": 8,
   "id": "d6d5b103-502d-4bb7-989c-7ae60edf9684",
   "metadata": {},
   "outputs": [
    {
     "name": "stdout",
     "output_type": "stream",
     "text": [
      "Crow\n",
      "Crow\n"
     ]
    }
   ],
   "source": [
    "bird = Bird(\"Crow\")\n",
    "bird.speak()  \n",
    "bird.fly()"
   ]
  },
  {
   "cell_type": "code",
   "execution_count": 9,
   "id": "7e56a878-a99a-4d75-a26a-6797ee41a5da",
   "metadata": {},
   "outputs": [],
   "source": [
    "#Question 4\n",
    "#get method is use to get the value where attritube can not modify\n",
    "#set method is use to set the value where attritube can not modify\n",
    "class bank:\n",
    "    def __init__(self,balance):\n",
    "        self.__balance=balance\n",
    "        \n",
    "    def deposit(self,amount):\n",
    "        self.__balance =self.__balance+amount\n",
    "        \n",
    "    def withdraw(self,amount):\n",
    "        if self.__balance>=amount:\n",
    "            self.__balance = self.__balance-amount\n",
    "            return True\n",
    "        else:\n",
    "            return False\n",
    "    def get_balance(self):       \n",
    "        return self.__balance"
   ]
  },
  {
   "cell_type": "code",
   "execution_count": 11,
   "id": "407b03b0-a47d-4098-959a-c5945008d1f1",
   "metadata": {},
   "outputs": [],
   "source": [
    "#question 5\n",
    "#in method overriding method  where a subclass provides a different\n",
    "#implementation of a method that is already defined in its parent class \n",
    "class Car:\n",
    "    def Model(self):\n",
    "        print(\"Nano\")\n",
    "\n",
    "\n",
    "class Speed(Car):\n",
    "    def Model(self):\n",
    "        print(\"2015\")"
   ]
  },
  {
   "cell_type": "code",
   "execution_count": 12,
   "id": "23fc5905-a77e-4025-b1ce-8e4d27cf3ec0",
   "metadata": {},
   "outputs": [
    {
     "name": "stdout",
     "output_type": "stream",
     "text": [
      "Nano\n"
     ]
    }
   ],
   "source": [
    "A = Car()\n",
    "A.Model() "
   ]
  },
  {
   "cell_type": "code",
   "execution_count": 14,
   "id": "4e3a95ec-41b2-4682-a60c-eb48e4d244eb",
   "metadata": {},
   "outputs": [
    {
     "name": "stdout",
     "output_type": "stream",
     "text": [
      "2015\n"
     ]
    }
   ],
   "source": [
    "B= Speed()\n",
    "B.Model()  "
   ]
  },
  {
   "cell_type": "code",
   "execution_count": null,
   "id": "cf47539b-1b21-4f7a-8168-6b3ece5eab16",
   "metadata": {},
   "outputs": [],
   "source": []
  }
 ],
 "metadata": {
  "kernelspec": {
   "display_name": "Python 3 (ipykernel)",
   "language": "python",
   "name": "python3"
  },
  "language_info": {
   "codemirror_mode": {
    "name": "ipython",
    "version": 3
   },
   "file_extension": ".py",
   "mimetype": "text/x-python",
   "name": "python",
   "nbconvert_exporter": "python",
   "pygments_lexer": "ipython3",
   "version": "3.11.3"
  }
 },
 "nbformat": 4,
 "nbformat_minor": 5
}
